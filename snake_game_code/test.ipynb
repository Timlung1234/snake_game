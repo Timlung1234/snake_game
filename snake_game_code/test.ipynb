{
 "cells": [
  {
   "cell_type": "code",
   "execution_count": 2,
   "metadata": {},
   "outputs": [],
   "source": [
    "import numpy as np"
   ]
  },
  {
   "cell_type": "code",
   "execution_count": 3,
   "metadata": {},
   "outputs": [],
   "source": [
    "backgroud = np.array([[0, 0, 0, 0, 0],\n",
    "                      [0, 1, 1, 1, 0],\n",
    "                      [0, 1, 0, 2, 0],\n",
    "                      [0, 1, 0, 0, 0],\n",
    "                      [0, 0, 0, 0, 0]])"
   ]
  },
  {
   "cell_type": "code",
   "execution_count": 4,
   "metadata": {},
   "outputs": [
    {
     "name": "stdout",
     "output_type": "stream",
     "text": [
      "(3, 2)\n",
      "[(1, 1), (2, 1), (3, 1), (1, 2), (1, 3)]\n"
     ]
    }
   ],
   "source": [
    "body = []\n",
    "\n",
    "index_body = np.where(backgroud == 1)\n",
    "for i, j in zip(index_body[0], index_body[1]):\n",
    "    body.append((j, i))\n",
    "\n",
    "index_head = np.where(backgroud == 2)\n",
    "head = index_head[1][0], index_head[0][0]\n",
    "\n",
    "print(head)\n",
    "print(body)"
   ]
  },
  {
   "cell_type": "code",
   "execution_count": 17,
   "metadata": {},
   "outputs": [
    {
     "name": "stdout",
     "output_type": "stream",
     "text": [
      "(3, 1) have snake body\n",
      "(1, 2) have snake body\n"
     ]
    }
   ],
   "source": [
    "def body_check(action, block_size=1):\n",
    "\n",
    "    x, y = head\n",
    "\n",
    "    ### Up\n",
    "    if action == [1, 0, 0, 0]:\n",
    "        dis = y\n",
    "        while dis > 0:\n",
    "            dis -= block_size\n",
    "            if (x, dis) in body:\n",
    "                print(f\"{(x, dis)} have snake body\")\n",
    "                break\n",
    "    ### Down\n",
    "    elif action == [0, 1, 0, 0]:\n",
    "        dis = y\n",
    "        while dis < 5:\n",
    "            dis += block_size\n",
    "            if (x, dis) in body:\n",
    "                print(f\"{(x, dis)} have snake body\")\n",
    "                break\n",
    "    # ### Right\n",
    "    elif action == [0, 0, 1, 0]:\n",
    "        dis = x\n",
    "        while dis < 5:\n",
    "            dis += block_size\n",
    "            if (dis, y) in body:\n",
    "                print(f\"{(dis, y)} have snake body\")\n",
    "                break\n",
    "    # ### Left\n",
    "    elif action == [0, 0, 0, 1]:\n",
    "        dis = x\n",
    "        while dis > 0:\n",
    "            dis -= block_size\n",
    "            if (dis, y) in body:\n",
    "                print(f\"{(dis, y)} have snake body\")\n",
    "                break\n",
    "\n",
    "body_check([1, 0, 0, 0])\n",
    "body_check([0, 1, 0, 0])\n",
    "body_check([0, 0, 1, 0])\n",
    "body_check([0, 0, 0, 1])"
   ]
  },
  {
   "cell_type": "code",
   "execution_count": 41,
   "metadata": {},
   "outputs": [
    {
     "data": {
      "text/plain": [
       "(3, 2)"
      ]
     },
     "execution_count": 41,
     "metadata": {},
     "output_type": "execute_result"
    }
   ],
   "source": [
    "index = np.where(backgroud == 2)\n",
    "x, y = index[1][0], index[0][0]\n",
    "x, y"
   ]
  },
  {
   "cell_type": "code",
   "execution_count": 72,
   "metadata": {},
   "outputs": [
    {
     "name": "stdout",
     "output_type": "stream",
     "text": [
      "(0, 1) Yes, In left\n",
      "-------------------------\n",
      "(2, 1) No, Not In Right\n",
      "(3, 1) Yes, In Right\n",
      "(4, 1) No, Not In Right\n",
      "-------------------------\n",
      "(1, 0) No, Not In Up\n",
      "-------------------------\n",
      "(1, 2) No, Not In Down\n",
      "(1, 3) Yes, In Down\n",
      "(1, 4) No, Not In Down\n"
     ]
    }
   ],
   "source": [
    "### left\n",
    "for dis in range(0, x):\n",
    "    if (dis, y) in body:\n",
    "        print((dis, y), 'Yes, In left')\n",
    "    else:\n",
    "        print((dis, y), 'No, Not In left')\n",
    "\n",
    "print(\"-------------------------\")\n",
    "\n",
    "### Right\n",
    "for dis in range(x+1, 4+1):\n",
    "    if (dis, y) in body:\n",
    "        print((dis, y), 'Yes, In Right')\n",
    "    else:\n",
    "        print((dis, y), 'No, Not In Right')\n",
    "\n",
    "print(\"-------------------------\")\n",
    "\n",
    "### Up\n",
    "for dis in range(0, y):\n",
    "    if (x, dis) in body:\n",
    "        print((x, dis), 'Yes, In Up')\n",
    "    else:\n",
    "        print((x, dis), 'No, Not In Up')\n",
    "\n",
    "print(\"-------------------------\")\n",
    "\n",
    "### Down\n",
    "for dis in range(y+1, 4+1):\n",
    "    if (x, dis) in body:\n",
    "        print((x, dis), 'Yes, In Down')\n",
    "    else:\n",
    "        print((x, dis), 'No, Not In Down')"
   ]
  },
  {
   "cell_type": "code",
   "execution_count": 24,
   "metadata": {},
   "outputs": [
    {
     "data": {
      "text/plain": [
       "20.0"
      ]
     },
     "execution_count": 24,
     "metadata": {},
     "output_type": "execute_result"
    }
   ],
   "source": [
    "snake_length = 20\n",
    "step = 200\n",
    "\n",
    "step + (snake_length * 0.5)"
   ]
  }
 ],
 "metadata": {
  "kernelspec": {
   "display_name": "py_snake_cpu",
   "language": "python",
   "name": "python3"
  },
  "language_info": {
   "codemirror_mode": {
    "name": "ipython",
    "version": 3
   },
   "file_extension": ".py",
   "mimetype": "text/x-python",
   "name": "python",
   "nbconvert_exporter": "python",
   "pygments_lexer": "ipython3",
   "version": "3.11.5"
  }
 },
 "nbformat": 4,
 "nbformat_minor": 2
}
