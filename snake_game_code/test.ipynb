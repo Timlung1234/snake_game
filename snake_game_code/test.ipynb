{
 "cells": [
  {
   "cell_type": "code",
   "execution_count": 99,
   "metadata": {},
   "outputs": [
    {
     "data": {
      "text/plain": [
       "0.9999985572927355"
      ]
     },
     "execution_count": 99,
     "metadata": {},
     "output_type": "execute_result"
    }
   ],
   "source": [
    "import math\n",
    "\n",
    "def tanh_mark(x1, y1, x2, y2, scale=1.0):\n",
    "    # Calculate Euclidean distance between Point 1 (x1, y1) and Point 2 (x2, y2)\n",
    "    distance = math.sqrt((x2 - x1)**2 + (y2 - y1)**2)\n",
    "    \n",
    "    # Apply the tanh function to convert distance to a mark in the range -1 to 1\n",
    "    # The 'scale' parameter controls the sensitivity of the distance impact\n",
    "    # The function is adjusted to decrease from 1 to -1 as the distance increases\n",
    "    mark = -math.tanh(scale * distance) + 1\n",
    "    \n",
    "    # Normalize the mark to range from -1 to 1\n",
    "    normalized_mark = 2 * (mark / 2) - 1\n",
    "    \n",
    "    return normalized_mark\n",
    "\n",
    "# Example usage:\n",
    "x1, y1 = 0, 0  # Point 1 coordinates\n",
    "x2, y2 = 3, 4  # Point 2 coordinates\n",
    "\n",
    "mark = tanh_mark(x1, y1, x2, y2, scale=0.1)\n",
    "print(\"Mark:\", mark)\n"
   ]
  }
 ],
 "metadata": {
  "kernelspec": {
   "display_name": "py_snake_cpu",
   "language": "python",
   "name": "python3"
  },
  "language_info": {
   "codemirror_mode": {
    "name": "ipython",
    "version": 3
   },
   "file_extension": ".py",
   "mimetype": "text/x-python",
   "name": "python",
   "nbconvert_exporter": "python",
   "pygments_lexer": "ipython3",
   "version": "3.9.12"
  }
 },
 "nbformat": 4,
 "nbformat_minor": 2
}
