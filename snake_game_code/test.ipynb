{
 "cells": [
  {
   "cell_type": "code",
   "execution_count": 1,
   "metadata": {},
   "outputs": [],
   "source": [
    "from random import sample"
   ]
  },
  {
   "cell_type": "code",
   "execution_count": 2,
   "metadata": {},
   "outputs": [],
   "source": [
    "friends= [[\"芸芸\", \"萱萱\", \"琳琳\", \"娜娜\"],\n",
    "          [\"天秤\", \"金牛\", \"雙魚\",\"雙子\"],\n",
    "          [\"餅乾\", \"巧克力\", \"草莓\", \"蛋糕\"]]"
   ]
  },
  {
   "cell_type": "code",
   "execution_count": 5,
   "metadata": {},
   "outputs": [
    {
     "name": "stdout",
     "output_type": "stream",
     "text": [
      "('芸芸', '天秤', '餅乾')\n",
      "('萱萱', '金牛', '巧克力')\n",
      "('琳琳', '雙魚', '草莓')\n",
      "('娜娜', '雙子', '蛋糕')\n"
     ]
    }
   ],
   "source": [
    "for i in zip(*friends):\n",
    "    print(i)"
   ]
  }
 ],
 "metadata": {
  "kernelspec": {
   "display_name": "py_snake_cpu",
   "language": "python",
   "name": "python3"
  },
  "language_info": {
   "codemirror_mode": {
    "name": "ipython",
    "version": 3
   },
   "file_extension": ".py",
   "mimetype": "text/x-python",
   "name": "python",
   "nbconvert_exporter": "python",
   "pygments_lexer": "ipython3",
   "version": "3.9.12"
  }
 },
 "nbformat": 4,
 "nbformat_minor": 2
}
